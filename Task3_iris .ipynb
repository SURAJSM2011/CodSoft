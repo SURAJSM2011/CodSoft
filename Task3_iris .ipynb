{
 "cells": [
  {
   "cell_type": "code",
   "execution_count": null,
   "id": "2cae28b9",
   "metadata": {},
   "outputs": [],
   "source": [
    "import numpy as np\n",
    "import pandas as pd\n",
    "\n",
    "from sklearn.model_selection import train_test_split\n",
    "\n",
    "from sklearn.svm import SVC\n",
    "from sklearn.metrics import  classification_report\n",
    "\n",
    "from sklearn.linear_model import LogisticRegression\n",
    "import matplotlib.pyplot as plt\n",
    "import seaborn as sns"
   ]
  },
  {
   "cell_type": "code",
   "execution_count": null,
   "id": "a3178059",
   "metadata": {},
   "outputs": [],
   "source": [
    "df = pd.read_csv('iris_data.csv')"
   ]
  },
  {
   "cell_type": "code",
   "execution_count": null,
   "id": "ca66afb3",
   "metadata": {},
   "outputs": [],
   "source": [
    "df.sample(5)"
   ]
  },
  {
   "cell_type": "code",
   "execution_count": null,
   "id": "78b07f8f",
   "metadata": {},
   "outputs": [],
   "source": [
    "df.info()"
   ]
  },
  {
   "cell_type": "code",
   "execution_count": null,
   "id": "8ae5f6b7",
   "metadata": {},
   "outputs": [],
   "source": [
    "df.describe()"
   ]
  },
  {
   "cell_type": "code",
   "execution_count": null,
   "id": "af899a36",
   "metadata": {},
   "outputs": [],
   "source": [
    "plt.figure(figsize=(11,6))\n",
    "df['Species'].value_counts().plot(kind='pie',autopct='%0.2f%%',ylabel='',title='Species')"
   ]
  },
  {
   "cell_type": "code",
   "execution_count": null,
   "id": "5e176a1d",
   "metadata": {},
   "outputs": [],
   "source": [
    "X_train,X_test,y_train,y_test = train_test_split(df.iloc[:,:4],df['Species'],test_size=0.2,random_state=2)"
   ]
  },
  {
   "cell_type": "code",
   "execution_count": null,
   "id": "4e1d710d",
   "metadata": {},
   "outputs": [],
   "source": [
    "logisticR = LogisticRegression()\n",
    "logisticR.fit(X_train,y_train)"
   ]
  },
  {
   "cell_type": "code",
   "execution_count": null,
   "id": "a7c620a7",
   "metadata": {},
   "outputs": [],
   "source": [
    "logisticR.score(X_train,y_train)"
   ]
  },
  {
   "cell_type": "code",
   "execution_count": null,
   "id": "5d72e937",
   "metadata": {},
   "outputs": [],
   "source": [
    "predicted=logisticR.predict(X_train)\n",
    "print(classification_report(predicted,y_train))"
   ]
  },
  {
   "cell_type": "code",
   "execution_count": null,
   "id": "5a7a690b",
   "metadata": {},
   "outputs": [],
   "source": [
    "logisticR.score(X_test,y_test)"
   ]
  },
  {
   "cell_type": "code",
   "execution_count": null,
   "id": "75c7ddfd",
   "metadata": {},
   "outputs": [],
   "source": [
    "predicted=logisticR.predict(X_test)\n",
    "print(classification_report(predicted,y_test))"
   ]
  },
  {
   "cell_type": "code",
   "execution_count": null,
   "id": "20a366e1",
   "metadata": {},
   "outputs": [],
   "source": [
    "svc = SVC()\n",
    "svc.fit(X_train,y_train)"
   ]
  },
  {
   "cell_type": "code",
   "execution_count": null,
   "id": "8c47f13e",
   "metadata": {},
   "outputs": [],
   "source": [
    "svc.score(X_train,y_train)"
   ]
  },
  {
   "cell_type": "code",
   "execution_count": null,
   "id": "270c5706",
   "metadata": {},
   "outputs": [],
   "source": [
    "predicted=svc.predict(X_test)\n",
    "print(classification_report(predicted,y_test))"
   ]
  },
  {
   "cell_type": "code",
   "execution_count": null,
   "id": "5603d6d8",
   "metadata": {},
   "outputs": [],
   "source": [
    "predicted=svc.predict(X_test)\n",
    "print(classification_report(predicted,y_test))"
   ]
  },
  {
   "cell_type": "code",
   "execution_count": null,
   "id": "493b5e94",
   "metadata": {},
   "outputs": [],
   "source": [
    "svc.score(X_test,y_test)"
   ]
  },
  {
   "cell_type": "code",
   "execution_count": null,
   "id": "2418705a",
   "metadata": {},
   "outputs": [],
   "source": [
    "predicted=svc.predict(X_test)\n",
    "print(classification_report(predicted,y_test))"
   ]
  }
 ],
 "metadata": {
  "kernelspec": {
   "display_name": "Python 3 (ipykernel)",
   "language": "python",
   "name": "python3"
  },
  "language_info": {
   "codemirror_mode": {
    "name": "ipython",
    "version": 3
   },
   "file_extension": ".py",
   "mimetype": "text/x-python",
   "name": "python",
   "nbconvert_exporter": "python",
   "pygments_lexer": "ipython3",
   "version": "3.10.9"
  }
 },
 "nbformat": 4,
 "nbformat_minor": 5
}
